{
 "cells": [
  {
   "cell_type": "markdown",
   "metadata": {},
   "source": [
    "# Quickstart Tutorial\n",
    "\n",
    "In this short introduction to the Masterful AutoML Platform, you will train a model start to finish with Masterful. This example will walk you through creating a simple dataset and model, and using that dataset and model with the Masterful AutoML platform. This example is not intended to create a production ready model, as we will be training on a very small amount of data in order to focus on the key data structures and concepts.\n",
    "\n",
    "\n",
    "First, import the necessary libraries and register the Masterful package. Registration is necessary to ensure you have a valid authorization key and are licensed to use the Masterful AutoML platform. Make sure to fill in the `<INSERT HERE>` sections with the account ID and authorization key provided to you by Masterful AI.\n",
    "\n",
    "[![Open In Colab](https://colab.research.google.com/assets/colab-badge.svg)](https://colab.research.google.com/github/masterfulai/masterful-docs/blob/main/tutorial_quickstart.ipynb)[![download button](https://www.tensorflow.org/images/download_logo_32px.png)](https://masterful-public.s3.us-west-1.amazonaws.com/933013963/latest/tutorial_quickstart.ipynb) Download this Notebook"
   ]
  },
  {
   "cell_type": "code",
   "execution_count": 1,
   "metadata": {},
   "outputs": [
    {
     "name": "stdout",
     "output_type": "stream",
     "text": [
      "MASTERFUL: Your account has been successfully registered. Masterful v0.3.6 is loaded.\n"
     ]
    }
   ],
   "source": [
    "import tensorflow as tf\n",
    "import tensorflow_datasets as tfds\n",
    "\n",
    "MASTERFUL_ACCOUNT_ID=\"<INSERT HERE>\"\n",
    "MASTERFUL_AUTHORIZATION_KEY=\"<INSERT HERE>\"\n",
    "import masterful\n",
    "masterful = masterful.register(account_id=MASTERFUL_ACCOUNT_ID, \n",
    "                               authorization_key=MASTERFUL_AUTHORIZATION_KEY)"
   ]
  },
  {
   "cell_type": "markdown",
   "metadata": {},
   "source": [
    "In this example, you will use the CIFAR-10 dataset from [Tensorflow Datasets](https://www.tensorflow.org/datasets). You are only going to use 5% of the labeled training data to speed up the overall training time and focus on the end-to-end scenario, rather than particular results."
   ]
  },
  {
   "cell_type": "code",
   "execution_count": 2,
   "metadata": {},
   "outputs": [],
   "source": [
    "NUM_CLASSES=10\n",
    "TRAINING_PERCENTAGE=5\n",
    "(labeled_dataset, test_dataset) = tfds.load('cifar10', \n",
    "                                            as_supervised=True, \n",
    "                                            split=[f'train[:{TRAINING_PERCENTAGE}%]', 'test'], \n",
    "                                            with_info=False)"
   ]
  },
  {
   "cell_type": "markdown",
   "metadata": {},
   "source": [
    "Masterful works best with dense labels, so apply one-hot to the sparse labels provided by Tensorflow datasets."
   ]
  },
  {
   "cell_type": "code",
   "execution_count": 3,
   "metadata": {},
   "outputs": [],
   "source": [
    "def sparse_to_dense(image, label):\n",
    "    label = tf.cast(label, tf.int32)\n",
    "    one_hot_label = tf.one_hot(label, depth=NUM_CLASSES)\n",
    "    return image, one_hot_label\n",
    "\n",
    "labeled_dataset = labeled_dataset.map(sparse_to_dense, num_parallel_calls=tf.data.AUTOTUNE)\n",
    "test_dataset = test_dataset.map(sparse_to_dense, num_parallel_calls=tf.data.AUTOTUNE)"
   ]
  },
  {
   "cell_type": "markdown",
   "metadata": {},
   "source": [
    "Build a simple model to classify CIFAR-10 data. This is a toy model for demonstration purposes only, and should not be used in a production environment. "
   ]
  },
  {
   "cell_type": "code",
   "execution_count": 4,
   "metadata": {},
   "outputs": [],
   "source": [
    "def get_model():\n",
    "    model = tf.keras.models.Sequential()\n",
    "    model.add(tf.keras.layers.experimental.preprocessing.Rescaling(1./255,\n",
    "              input_shape=(32, 32, 3)))\n",
    "    model.add(tf.keras.layers.Conv2D(16, (3, 3), activation='relu',))\n",
    "    model.add(tf.keras.layers.MaxPooling2D((2, 2)))\n",
    "    model.add(tf.keras.layers.Conv2D(32, (3, 3), activation='relu',))\n",
    "    model.add(tf.keras.layers.MaxPooling2D((2, 2)))\n",
    "    model.add(tf.keras.layers.Conv2D(64, (3, 3), activation='relu',))\n",
    "    model.add(tf.keras.layers.MaxPooling2D((2, 2)))\n",
    "    model.add(tf.keras.layers.GlobalAveragePooling2D())\n",
    "    model.add(tf.keras.layers.Dense(NUM_CLASSES))\n",
    "    return model"
   ]
  },
  {
   "cell_type": "markdown",
   "metadata": {},
   "source": [
    "The first step when using Masterful is to specify some design choices about your model by using `masterful.spec.create_model_and_data_specs`. Masterful tries to infer as much as possible about your model and dataset, but for things which cannot be inferred, Masterful has created `masterful.ModelSpec` and `masterful.DataSpec` data structures to inform the platform about these choices. \n",
    "\n",
    "In the example below, we are letting Masterful know that we are performing a classification task (`masterful.spec.Task.CLASSIFICATION`) with 10 labels (`num_classes=NUM_CLASSES`), and that our input image features are in the range [0,255] (`image_range=masterful.spec.ImageRange.ZERO_255`). Furthermore, we are providing dense labels (`sparse=False`) and that our model is outputting logits rather than a softmax classification (`from_logits=True`). "
   ]
  },
  {
   "cell_type": "code",
   "execution_count": 5,
   "metadata": {
    "tags": [
     "outputPrepend"
    ]
   },
   "outputs": [],
   "source": [
    "model = get_model()\n",
    "\n",
    "model_spec, data_spec = masterful.spec.create_model_and_data_specs(\n",
    "    model=model, \n",
    "    dataset=labeled_dataset, \n",
    "    task=masterful.spec.Task.CLASSIFICATION, \n",
    "    image_range=masterful.spec.ImageRange.ZERO_255, \n",
    "    num_classes=NUM_CLASSES, \n",
    "    sparse=False, \n",
    "    from_logits=True,\n",
    "    )"
   ]
  },
  {
   "cell_type": "markdown",
   "metadata": {},
   "source": [
    "Now, you are ready to train your model using the Masterful AutoML platform. In the next cell, you will see the call to `masterful.autofit`, which is the entry point to the meta-learning engine of the Masterful AutoML platform. Notice there is no need to batch your data (Masterful will find the optimal batch size for you). No need to shuffle your data (Masterful handles this for you). You don't even need to pass in a validation dataset (Masterful finds one for you). You hand Masterful a model and a dataset, and Masterful will figure the rest out for you."
   ]
  },
  {
   "cell_type": "code",
   "execution_count": 6,
   "metadata": {},
   "outputs": [
    {
     "name": "stdout",
     "output_type": "stream",
     "text": [
      "MASTERFUL: Auto-fitting model to datasets.\n",
      "...\n",
      "MASTERFUL: Training complete in 1.6272061546643575 minutes.\n"
     ]
    }
   ],
   "source": [
    "fit_policy, fit_report = masterful.autofit(\n",
    "  model, \n",
    "  model_spec, \n",
    "  labeled_dataset, \n",
    "  data_spec,\n",
    ")"
   ]
  },
  {
   "cell_type": "markdown",
   "metadata": {},
   "source": [
    "The model you passed into `masterful.autofit` is now trained and updated in place, so you are able to evaluate it just like any other trained Keras model."
   ]
  },
  {
   "cell_type": "code",
   "execution_count": 7,
   "metadata": {},
   "outputs": [],
   "source": [
    "model.evaluate(test_dataset.batch(fit_policy.batch_size))"
   ]
  },
  {
   "cell_type": "markdown",
   "metadata": {},
   "source": [
    "You have now finished training your first model with the Masterful AutoML platform!\n",
    "\n",
    "## Next Steps\n",
    "\n",
    "Now that you have finished this basic tutorial, we suggest exploring the rest of the documentation for more advanced examples and use cases. For example, you can learn how to use unlabeled data to further improve the performance of your model. Or you can learn about other vision tasks such as object detection and segmentation. Don't see a topic that you are interested in? Reach out to us directly on email at learn@masterfulai.com or join our Slack [commmunity](https://www.masterfulai.com/community). We are happy to help walk you through whatever challenge you are facing!"
   ]
  }
 ],
 "metadata": {
  "interpreter": {
   "hash": "aee8b7b246df8f9039afb4144a1f6fd8d2ca17a180786b69acc140d282b71a49"
  },
  "kernelspec": {
   "display_name": "Python 3",
   "language": "python",
   "name": "python3"
  },
  "language_info": {
   "codemirror_mode": {
    "name": "ipython",
    "version": 3
   },
   "file_extension": ".py",
   "mimetype": "text/x-python",
   "name": "python",
   "nbconvert_exporter": "python",
   "pygments_lexer": "ipython3",
   "version": "3.8.9"
  }
 },
 "nbformat": 4,
 "nbformat_minor": 2
}
