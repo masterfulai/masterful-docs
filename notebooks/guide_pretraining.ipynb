{
 "cells": [
  {
   "cell_type": "markdown",
   "metadata": {},
   "source": [
    "# Guide to Unsupervised Pretraining\n",
    "In this guide, you'll learn how to train a backbone without using labels. At the end of this guide, you'll build a supervised k-nearest-neighbors classifier head on top of this backbone. Although the KNN classifier demonstrates that the backbone has learned representations of the data, see the \"Training with a backbone\" guide for the recommended applications of a backbone (e.g. linear or MLP head for classification, pyramid feature network for detection, unet for segmentation).\n",
    "\n",
    "[![Open In Colab](https://colab.research.google.com/assets/colab-badge.svg)](https://colab.research.google.com/github/masterfulai/masterful-docs/blob/main/tutorial_quickstart.ipynb)\\\n",
    "[![download button](_static/download_logo_32px.png)](https://masterful-public.s3.us-west-1.amazonaws.com/933013963/latest/tutorial_quickstart.ipynb) Download this Notebook\n",
    "\n",
    "First, import necessary libraries:"
   ]
  },
  {
   "cell_type": "code",
   "execution_count": 1,
   "metadata": {},
   "outputs": [
    {
     "name": "stdout",
     "output_type": "stream",
     "text": [
      "MASTERFUL: Your account has been successfully registered. Masterful v0.3.6 is loaded.\n"
     ]
    }
   ],
   "source": [
    "import numpy as np\n",
    "import tensorflow as tf\n",
    "\n",
    "MASTERFUL_ACCOUNT_ID=\"<INSERT HERE>\"\n",
    "MASTERFUL_AUTHORIZATION_KEY=\"<INSERT HERE>\"\n",
    "import masterful\n",
    "masterful = masterful.register(account_id=MASTERFUL_ACCOUNT_ID, authorization_key=MASTERFUL_AUTHORIZATION_KEY)\n",
    "\n",
    "import masterful.core"
   ]
  },
  {
   "cell_type": "markdown",
   "metadata": {},
   "source": [
    "For this guide you'll be using the CIFAR10 dataset, which consists of 60,000 color images of 10 separate, non-overlapping classes of objects. There are 6,000 images of each class of object; 5,000 in a training set and 1,000 held out for testing."
   ]
  },
  {
   "cell_type": "code",
   "execution_count": 2,
   "metadata": {},
   "outputs": [],
   "source": [
    "(x_train, y_train), (x_test, y_test) = tf.keras.datasets.cifar10.load_data()\n",
    "train_dataset = tf.data.Dataset.from_tensor_slices((x_train, y_train))\n",
    "validation_dataset = tf.data.Dataset.from_tensor_slices((x_test, y_test))"
   ]
  },
  {
   "cell_type": "markdown",
   "metadata": {},
   "source": [
    "Create a Data Specification, which captures CIFAR10's relevant metadata:"
   ]
  },
  {
   "cell_type": "code",
   "execution_count": 3,
   "metadata": {},
   "outputs": [],
   "source": [
    "data_spec = masterful.DataSpec.from_dataset(\n",
    "        task=masterful.spec.Task.CLASSIFICATION,\n",
    "        dataset=train_dataset,\n",
    "        image_range=masterful.spec.ImageRange.ZERO_255,\n",
    "        num_classes=10,\n",
    "        sparse=False)"
   ]
  },
  {
   "cell_type": "markdown",
   "metadata": {},
   "source": [
    "Now create a Pretraining Policy, which establishes pretraining-related hyperparameters:"
   ]
  },
  {
   "cell_type": "code",
   "execution_count": 4,
   "metadata": {},
   "outputs": [],
   "source": [
    "pretrain_policy = masterful.PretrainPolicy(batch_size=512,\n",
    "                                           epochs=3,\n",
    "                                           warmup_steps=10)"
   ]
  },
  {
   "cell_type": "markdown",
   "metadata": {},
   "source": [
    "Finally, create a model to be pretrained – here, the same simple CNN used in [this](https://www.tensorflow.org/tutorials/images/cnn) TensorFlow tutorial for labeled training:"
   ]
  },
  {
   "cell_type": "code",
   "execution_count": 5,
   "metadata": {},
   "outputs": [],
   "source": [
    "model = tf.keras.models.Sequential()\n",
    "model.add(tf.keras.layers.Conv2D(32, (3, 3), activation='relu', input_shape=(32, 32, 3)))\n",
    "model.add(tf.keras.layers.MaxPooling2D((2, 2)))\n",
    "model.add(tf.keras.layers.Conv2D(64, (3, 3), activation='relu'))\n",
    "model.add(tf.keras.layers.MaxPooling2D((2, 2)))\n",
    "model.add(tf.keras.layers.Conv2D(64, (3, 3), activation='relu'))"
   ]
  },
  {
   "cell_type": "markdown",
   "metadata": {},
   "source": [
    "Now you're ready to pretrain! Pretraining with Masterful will return a training report, including fields like\n",
    "- `loss`: the unsupervised loss at the end of pretraining.\n",
    "- `accuracy`: the accuracy achieved by performing K-Nearest Neighbors classification on the pretrained backbone's output features\n",
    "\n",
    "(Note that the labels in the dataset passed to the `labeled_data` parameter below are only used for KNN classification, _not_ for pretraining the backbone.)"
   ]
  },
  {
   "cell_type": "code",
   "execution_count": 6,
   "metadata": {},
   "outputs": [
    {
     "name": "stdout",
     "output_type": "stream",
     "text": [
      "Epoch 1/3\n",
      "98/98 [==============================] - 155s 2s/step - loss: 1155.8315\n"
     ]
    },
    {
     "name": "stdout",
     "output_type": "stream",
     "text": [
      "Feature extracting: 100%|██████████| 98/98 [00:00<00:00, 128.27it/s]\n",
      "Test Epoch: Acc@1:34.23%: 100%|██████████| 20/20 [00:00<00:00, 34.41it/s]\n"
     ]
    },
    {
     "name": "stdout",
     "output_type": "stream",
     "text": [
      "kNN Test Accuracy at epoch 0: 34.22999954223633 Max Accuracy so far: 34.22999954223633\n",
      "Epoch 2/3\n",
      "98/98 [==============================] - 153s 2s/step - loss: 967.6478\n"
     ]
    },
    {
     "name": "stdout",
     "output_type": "stream",
     "text": [
      "Feature extracting: 100%|██████████| 98/98 [00:00<00:00, 148.20it/s]\n",
      "Test Epoch: Acc@1:36.54%: 100%|██████████| 20/20 [00:00<00:00, 37.89it/s]\n"
     ]
    },
    {
     "name": "stdout",
     "output_type": "stream",
     "text": [
      "kNN Test Accuracy at epoch 1: 36.53999710083008 Max Accuracy so far: 36.53999710083008\n",
      "Epoch 3/3\n",
      "98/98 [==============================] - 153s 2s/step - loss: 907.8960\n"
     ]
    },
    {
     "name": "stdout",
     "output_type": "stream",
     "text": [
      "Feature extracting: 100%|██████████| 98/98 [00:00<00:00, 160.72it/s]\n",
      "Test Epoch: Acc@1:36.95%: 100%|██████████| 20/20 [00:00<00:00, 37.59it/s]"
     ]
    },
    {
     "name": "stdout",
     "output_type": "stream",
     "text": [
      "kNN Test Accuracy at epoch 2: 36.95000076293945 Max Accuracy so far: 36.95000076293945\n",
      "KnnEvaluator: Restoring model weights from epoch 3 with accuracy 36.95000076293945.\n"
     ]
    }
   ],
   "source": [
    "training_report = masterful.core.pretrain(\n",
    "        pretrain_policy=pretrain_policy,\n",
    "        model=model,\n",
    "        validation_data=validation_dataset,\n",
    "        labeled_data=train_dataset,\n",
    "        unlabeled_data=None,\n",
    "        synthetic_data=None,\n",
    "        data_spec=data_spec,\n",
    "    )"
   ]
  },
  {
   "cell_type": "markdown",
   "metadata": {},
   "source": [
    "The pretraining policy above only runs for a few epochs, to save time; you should expect better results with more epochs (and quicker results for a smaller model). However, note that the pretrained model's output features—without the use of labels—already outperform the guessing of randomly initialized weights:"
   ]
  },
  {
   "cell_type": "code",
   "execution_count": 7,
   "metadata": {},
   "outputs": [
    {
     "name": "stdout",
     "output_type": "stream",
     "text": [
      "Final pretraining loss: 907.89599609375\n",
      "Final pretraining KNN accuracy: 36.95000076293945\n"
     ]
    }
   ],
   "source": [
    "loss = training_report.validation_metrics['loss']\n",
    "acc = training_report.validation_metrics['accuracy']\n",
    "print(f'Final pretraining loss: {loss}')\n",
    "print(f'Final pretraining KNN accuracy: {acc}')"
   ]
  },
  {
   "cell_type": "markdown",
   "metadata": {},
   "source": [
    "Now you're ready to use Masterful's unsupervised pretraining API!"
   ]
  }
 ],
 "metadata": {
  "kernelspec": {
   "display_name": "Python 3",
   "language": "python",
   "name": "python3"
  },
  "language_info": {
   "codemirror_mode": {
    "name": "ipython",
    "version": 3
   },
   "file_extension": ".py",
   "mimetype": "text/x-python",
   "name": "python",
   "nbconvert_exporter": "python",
   "pygments_lexer": "ipython3",
   "version": "3.8.10"
  }
 },
 "nbformat": 4,
 "nbformat_minor": 4
}
