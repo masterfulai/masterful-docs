{
 "cells": [
  {
   "cell_type": "markdown",
   "metadata": {},
   "source": [
    "# Semantic Segmentation with the Masterful CLI Trainer\n",
    "\n",
    "[![Open In Colab](https://colab.research.google.com/assets/colab-badge.svg)][1]&nbsp;&nbsp;&nbsp;&nbsp;&nbsp;&nbsp;&nbsp;&nbsp;[![Download](images/download.png)][2][Download this Notebook][2]\n",
    "\n",
    "[1]:https://colab.research.google.com/github/masterfulai/masterful-docs/blob/main/notebooks/guide_cli_semantic_segmentation.ipynb\n",
    "[2]:https://docs.masterfulai.com/0.5.2/notebooks/guide_cli_semantic_segmentation.ipynb\n",
    "\n",
    "In this guide, you will take a deeper look at Semantic Segmentation with the [Masterful CLI Trainer](../notebooks/tutorial_quickstart_cli.ipynb) to train a state of the art model. \n",
    "\n",
    "This guide will use the [Oxford Pets](https://www.robots.ox.ac.uk/~vgg/data/pets/) dataset, which is a small dataset of cats and dogs with included segmentation masks."
   ]
  },
  {
   "cell_type": "markdown",
   "metadata": {},
   "source": [
    "## Define the Application\n",
    "\n",
    "In this guide, your challenge is to build a CV model that can identify cats and dogs in an image. Importantly though, we want to classify, at a pixel level, where the animals are in the image. This is different than a standard classification task where you are only interested in the absence or presence of an animal, or a detection task where you only want a bounding box around the animal. Segmentation is an important task when the **shape** and **outline** of the object is important, such as detecting the presence of cancerous cells in a medical image. In this case, the shape of the cells is critical in determining whether or not the cells are cancerous, and providing the exact regions of interest at the pixel level an assist a medical examiner in understanding the diagnosis.\n",
    "\n",
    "Since you want to identify each pixel in the image the CV task for this problem is **semantic segmentation**."
   ]
  },
  {
   "cell_type": "markdown",
   "metadata": {},
   "source": [
    "## TL;DR\n",
    "\n",
    "Don't want to read the rest of this guide, and want to start training\n",
    "immediately? The following command shows you how to start training\n",
    "with Masterful, using a configuration file and dataset on S3.\n",
    "\n",
    "```\n",
    "masterful-train --config https://masterful-public.s3.us-west-1.amazonaws.com/datasets/oxford_pets_binary_segmentation/training.yaml\n",
    "```"
   ]
  },
  {
   "cell_type": "markdown",
   "metadata": {},
   "source": [
    "## Coming Soon"
   ]
  }
 ],
 "metadata": {
  "kernelspec": {
   "display_name": "Python 3.8.5 ('masterful')",
   "language": "python",
   "name": "python3"
  },
  "language_info": {
   "name": "python",
   "version": "3.8.5"
  },
  "orig_nbformat": 4,
  "vscode": {
   "interpreter": {
    "hash": "3246dc5397f03b283072dce4862e0488f464e2254f3c7f1768d36ad0557bc76c"
   }
  }
 },
 "nbformat": 4,
 "nbformat_minor": 2
}
