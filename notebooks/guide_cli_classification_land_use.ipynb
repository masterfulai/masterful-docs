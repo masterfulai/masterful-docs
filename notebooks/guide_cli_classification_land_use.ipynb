{
 "cells": [
  {
   "cell_type": "markdown",
   "metadata": {},
   "source": [
    "# Classification of Land Use with the Masterful CLI Trainer\n",
    "\n",
    "[![Open In Colab](https://colab.research.google.com/assets/colab-badge.svg)][1]&nbsp;&nbsp;&nbsp;&nbsp;&nbsp;&nbsp;&nbsp;&nbsp;[![Download](images/download.png)][2][Download this Notebook][2]\n",
    "\n",
    "[1]:https://colab.research.google.com/github/masterfulai/masterful-docs/blob/main/notebooks/guide_cli_classification_land_use.ipynb\n",
    "[2]:https://docs.masterfulai.com/0.5.2/notebooks/guide_cli_classification_land_use.ipynb\n",
    "\n",
    "In this guide, you will take a deeper look at Classification with the [Masterful CLI Trainer](../notebooks/tutorial_quickstart_cli.ipynb) to train a state of the art model. \n",
    "\n",
    "This guide will use a satellite imagery dataset from [UCMerced](http://weegee.vision.ucmerced.edu/datasets/landuse.html) to classify different plots of land according to their usage. "
   ]
  },
  {
   "cell_type": "markdown",
   "metadata": {},
   "source": [
    "## Define the Application\n",
    "\n",
    "In this guide, your challenge is to build a computer vision model that can classify different plots of land according to their usage. In this instance, the images have already been extracted from larger satellite imagery and each image can be classified into a single category.\n",
    "\n",
    "Since each image can be categorized into a single class, and there are more than one possible classes, the computer vision task for this problem is **multi-class classification**.\n"
   ]
  },
  {
   "cell_type": "markdown",
   "metadata": {},
   "source": [
    "## TL;DR\n",
    "\n",
    "Don't want to read the rest of this guide, and want to start training\n",
    "immediately? The following command shows you how to start training\n",
    "with Masterful, using a configuration file and dataset on S3.\n",
    "\n",
    "```\n",
    "masterful-train --config https://masterful-public.s3.us-west-1.amazonaws.com/datasets/ucmerced/training.yaml\n",
    "```"
   ]
  },
  {
   "cell_type": "markdown",
   "metadata": {},
   "source": [
    "## Coming Soon"
   ]
  }
 ],
 "metadata": {
  "kernelspec": {
   "display_name": "Python 3.8.5 ('masterful')",
   "language": "python",
   "name": "python3"
  },
  "language_info": {
   "name": "python",
   "version": "3.8.5"
  },
  "orig_nbformat": 4,
  "vscode": {
   "interpreter": {
    "hash": "3246dc5397f03b283072dce4862e0488f464e2254f3c7f1768d36ad0557bc76c"
   }
  }
 },
 "nbformat": 4,
 "nbformat_minor": 2
}
