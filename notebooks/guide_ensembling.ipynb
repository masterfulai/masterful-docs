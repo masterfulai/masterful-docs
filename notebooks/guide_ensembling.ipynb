{
 "cells": [
  {
   "cell_type": "markdown",
   "metadata": {},
   "source": [
    "# Guide To Ensembling\n",
    "\n",
    "[![Open In Colab](https://colab.research.google.com/assets/colab-badge.svg)][1]&nbsp;&nbsp;&nbsp;&nbsp;&nbsp;&nbsp;&nbsp;&nbsp;[![Download](images/download.png)][2][Download this Notebook][2]\n",
    "\n",
    "[1]:https://colab.research.google.com/github/masterfulai/masterful-docs/blob/main/notebooks/guide_ensembling.ipynb\n",
    "[2]:https://docs.masterfulai.com/0.4.1/notebooks/guide_ensembling.ipynb\n",
    "\n",
    "In this guide, you'll learn how to create an ensemble model. Ensembles are a common way to train a larger model successfully. In this guide, you'll run an experiment to determine if ensembling is useful for your problem of classifying CIFAR10. You will generate three scenarios to compare:\n",
    "\n",
    "1) As a first baseline, a model trained without Masterful. \n",
    "2) As a second baseline, the same model architecture trained by Masterful including Masterful's regularization techniques. This baseline allows you to to ablate the effects of regularization from ensembling. \n",
    "3) An ensemble model created by Masterful, including Masterful's regularization techniques. The null hypothesis you seek to reject is that the Masterful trained ensemble does not deliver better accuracy than the two baselines. \n",
    "\n",
    "For more information on the theory of ensembles, see the concepts doc."
   ]
  },
  {
   "cell_type": "markdown",
   "metadata": {},
   "source": [
    "## Prerequisites\n",
    "\n",
    "Please follow the Masterful installation instructions [here](../tutorials/tutorial_installation.md) in order to run this Quickstart."
   ]
  },
  {
   "cell_type": "markdown",
   "metadata": {},
   "source": [
    "## Imports\n",
    "\n",
    "This guide uses [Tensorflow](https://www.tensorflow.org) for training and [Tensorflow Datasets](https://www.tensorflow.org/datasets) for the training data."
   ]
  },
  {
   "cell_type": "code",
   "execution_count": 1,
   "metadata": {},
   "outputs": [],
   "source": [
    "import numpy as np\n",
    "import tensorflow as tf\n",
    "import tensorflow_datasets as tfds\n",
    "import tensorflow_addons as tfa\n",
    "import masterful\n",
    "masterful = masterful.register()"
   ]
  },
  {
   "cell_type": "markdown",
   "metadata": {},
   "source": [
    "Prepare your dataset. You'll use the MNIST dataset for this guide. "
   ]
  },
  {
   "cell_type": "markdown",
   "metadata": {},
   "source": []
  },
  {
   "cell_type": "code",
   "execution_count": 2,
   "metadata": {},
   "outputs": [],
   "source": [
    "NUM_CLASSES = 10\n",
    "\n",
    "(x_train, y_train), (x_test, y_test) = tf.keras.datasets.mnist.load_data()\n",
    "\n",
    "# Normalize data into the range [0,1]\n",
    "x_train = x_train.astype(\"float32\") / 255.0\n",
    "x_test = x_test.astype(\"float32\") / 255.0\n",
    "\n",
    "# Reshape the data as single channel images.\n",
    "x_train = tf.reshape(x_train, (-1, 28, 28, 1))\n",
    "x_test = tf.reshape(x_test, (-1, 28, 28, 1))\n",
    "\n",
    "# Convert labels to one-hot. \n",
    "y_train = tf.keras.utils.to_categorical(y_train, NUM_CLASSES)\n",
    "y_test = tf.keras.utils.to_categorical(y_test, NUM_CLASSES)\n",
    "\n",
    "training_dataset = tf.data.Dataset.from_tensor_slices((x_train, y_train))\n",
    "test_dataset = tf.data.Dataset.from_tensor_slices((x_test, y_test))"
   ]
  },
  {
   "cell_type": "markdown",
   "metadata": {},
   "source": [
    "Now, build a simple model architecture. "
   ]
  },
  {
   "cell_type": "code",
   "execution_count": 3,
   "metadata": {},
   "outputs": [
    {
     "name": "stdout",
     "output_type": "stream",
     "text": [
      "Model: \"sequential\"\n",
      "_________________________________________________________________\n",
      "Layer (type)                 Output Shape              Param #   \n",
      "=================================================================\n",
      "conv2d (Conv2D)              (None, 14, 14, 5)         50        \n",
      "_________________________________________________________________\n",
      "re_lu (ReLU)                 (None, 14, 14, 5)         0         \n",
      "_________________________________________________________________\n",
      "flatten (Flatten)            (None, 980)               0         \n",
      "_________________________________________________________________\n",
      "dense (Dense)                (None, 10)                9810      \n",
      "=================================================================\n",
      "Total params: 9,860\n",
      "Trainable params: 9,860\n",
      "Non-trainable params: 0\n",
      "_________________________________________________________________\n"
     ]
    }
   ],
   "source": [
    "def get_model():\n",
    "  model = tf.keras.Sequential(\n",
    "    [\n",
    "        tf.keras.Input(shape=(28, 28, 1)),\n",
    "        tf.keras.layers.Conv2D(5, (3, 3), strides=(2, 2), padding=\"same\"),\n",
    "        tf.keras.layers.ReLU(),\n",
    "        tf.keras.layers.Flatten(),\n",
    "        tf.keras.layers.Dense(NUM_CLASSES),\n",
    "    ]\n",
    "  )\n",
    "  return model\n",
    "\n",
    "model = get_model()\n",
    "model.summary()"
   ]
  },
  {
   "cell_type": "markdown",
   "metadata": {},
   "source": [
    "To implement scenario 1, train the model without using Masterful. This will train to 0.96-0.97 accuracy on the validation set. This is a sanity check to ensure that Masterful training improves the model accuracy. "
   ]
  },
  {
   "cell_type": "code",
   "execution_count": 4,
   "metadata": {},
   "outputs": [
    {
     "name": "stdout",
     "output_type": "stream",
     "text": [
      "Epoch 1/20\n",
      "938/938 [==============================] - 16s 4ms/step - loss: 0.8121 - categorical_accuracy: 0.7878 - val_loss: 0.2886 - val_categorical_accuracy: 0.9167\n",
      "Epoch 2/20\n",
      "938/938 [==============================] - 3s 3ms/step - loss: 0.2836 - categorical_accuracy: 0.9205 - val_loss: 0.2365 - val_categorical_accuracy: 0.9335\n",
      "Epoch 3/20\n",
      "938/938 [==============================] - 3s 3ms/step - loss: 0.2374 - categorical_accuracy: 0.9330 - val_loss: 0.2016 - val_categorical_accuracy: 0.9437\n",
      "Epoch 4/20\n",
      "938/938 [==============================] - 3s 3ms/step - loss: 0.2052 - categorical_accuracy: 0.9425 - val_loss: 0.1798 - val_categorical_accuracy: 0.9489\n",
      "Epoch 5/20\n",
      "938/938 [==============================] - 3s 3ms/step - loss: 0.1846 - categorical_accuracy: 0.9486 - val_loss: 0.1657 - val_categorical_accuracy: 0.9534\n",
      "Epoch 6/20\n",
      "938/938 [==============================] - 3s 3ms/step - loss: 0.1712 - categorical_accuracy: 0.9519 - val_loss: 0.1558 - val_categorical_accuracy: 0.9558\n",
      "Epoch 7/20\n",
      "938/938 [==============================] - 3s 3ms/step - loss: 0.1619 - categorical_accuracy: 0.9544 - val_loss: 0.1493 - val_categorical_accuracy: 0.9570\n",
      "Epoch 8/20\n",
      "938/938 [==============================] - 3s 3ms/step - loss: 0.1551 - categorical_accuracy: 0.9563 - val_loss: 0.1443 - val_categorical_accuracy: 0.9576\n",
      "Epoch 9/20\n",
      "938/938 [==============================] - 3s 3ms/step - loss: 0.1499 - categorical_accuracy: 0.9573 - val_loss: 0.1408 - val_categorical_accuracy: 0.9584\n",
      "Epoch 10/20\n",
      "938/938 [==============================] - 3s 3ms/step - loss: 0.1457 - categorical_accuracy: 0.9583 - val_loss: 0.1383 - val_categorical_accuracy: 0.9588\n",
      "Epoch 11/20\n",
      "938/938 [==============================] - 3s 3ms/step - loss: 0.1422 - categorical_accuracy: 0.9591 - val_loss: 0.1365 - val_categorical_accuracy: 0.9591\n",
      "Epoch 12/20\n",
      "938/938 [==============================] - 3s 3ms/step - loss: 0.1392 - categorical_accuracy: 0.9599 - val_loss: 0.1349 - val_categorical_accuracy: 0.9595\n",
      "Epoch 13/20\n",
      "938/938 [==============================] - 3s 3ms/step - loss: 0.1366 - categorical_accuracy: 0.9604 - val_loss: 0.1337 - val_categorical_accuracy: 0.9591\n",
      "Epoch 14/20\n",
      "938/938 [==============================] - 3s 3ms/step - loss: 0.1343 - categorical_accuracy: 0.9609 - val_loss: 0.1328 - val_categorical_accuracy: 0.9593\n",
      "Epoch 15/20\n",
      "938/938 [==============================] - 3s 3ms/step - loss: 0.1321 - categorical_accuracy: 0.9614 - val_loss: 0.1320 - val_categorical_accuracy: 0.9594\n",
      "Epoch 16/20\n",
      "938/938 [==============================] - 3s 3ms/step - loss: 0.1301 - categorical_accuracy: 0.9622 - val_loss: 0.1314 - val_categorical_accuracy: 0.9597\n",
      "Epoch 17/20\n",
      "938/938 [==============================] - 3s 3ms/step - loss: 0.1282 - categorical_accuracy: 0.9628 - val_loss: 0.1308 - val_categorical_accuracy: 0.9597\n",
      "Epoch 18/20\n",
      "938/938 [==============================] - 3s 3ms/step - loss: 0.1263 - categorical_accuracy: 0.9633 - val_loss: 0.1301 - val_categorical_accuracy: 0.9598\n",
      "Epoch 19/20\n",
      "938/938 [==============================] - 3s 3ms/step - loss: 0.1241 - categorical_accuracy: 0.9638 - val_loss: 0.1288 - val_categorical_accuracy: 0.9605\n",
      "Epoch 20/20\n",
      "938/938 [==============================] - 3s 3ms/step - loss: 0.1215 - categorical_accuracy: 0.9646 - val_loss: 0.1268 - val_categorical_accuracy: 0.9610\n"
     ]
    },
    {
     "data": {
      "text/plain": [
       "<tensorflow.python.keras.callbacks.History at 0x7f256e67cb90>"
      ]
     },
     "execution_count": 4,
     "metadata": {},
     "output_type": "execute_result"
    }
   ],
   "source": [
    "batch_size = 64\n",
    "model.compile(\n",
    "  optimizer=tf.keras.optimizers.Adam(),\n",
    "  loss=tf.keras.losses.CategoricalCrossentropy(from_logits=True),\n",
    "  metrics=[tf.keras.metrics.CategoricalAccuracy()],\n",
    ")\n",
    "model.fit(training_dataset.batch(batch_size), validation_data=test_dataset.batch(batch_size), epochs=20)"
   ]
  },
  {
   "cell_type": "code",
   "execution_count": 5,
   "metadata": {},
   "outputs": [
    {
     "name": "stdout",
     "output_type": "stream",
     "text": [
      "79/79 [==============================] - 0s 3ms/step - loss: 0.1268 - categorical_accuracy: 0.9610\n"
     ]
    }
   ],
   "source": [
    "baseline_eval_metrics = model.evaluate(test_dataset.batch(128))\n",
    "baseline_val_loss, baseline_val_accuracy = baseline_eval_metrics"
   ]
  },
  {
   "cell_type": "markdown",
   "metadata": {},
   "source": [
    "## Train with Masterful\n",
    "\n",
    "You can implement scenario 2 and 3 at the same time. The Masterful ensembling API will train multiple individual models and report on their accuracy before ensembling and reporting on the ensemble's accuracy. \n",
    "\n",
    "The Masterful AutoML platform learns how to train your model by focusing on five core organizational principles in deep learning: architecture, data, optimization, regularization, and semi-supervision.\n",
    "\n",
    "**Architecture** is the structure of weights, biases, and activations that define a model. In this example, the architecture is defined by the model you created above. Importantly, we will use the [ensemble_multiplier](../api/api_architecture.rst#masterful.architecture.ArchitectureParams) parameter of the [ArchitectureParams](../api/api_architecture.rst#masterful.architecture.ArchitectureParams) structure to specifiy how many models we will ensemble together.\n",
    "\n",
    "**Data** is the input used to train the model. In this example, you are using a labeled training dataset of flowers. More advanced usages of the Masterful AutoML platform can take into account unlabeled and synthetic data as well, using a variety of different techniques.\n",
    "\n",
    "**Optimization** means finding the best weights for a model and training data. Optimization is different from regularization because optimization does not consider generalization to unseen data. The central challenge of optimization is speed - find the best weights faster.\n",
    "\n",
    "**Regularization** means helping a model generalize to data it has not yet seen. Another way of saying this is that regularization is about fighting overfitting.\n",
    "\n",
    "**Semi-Supervision** is the process by which a model can be trained using both labeled and unlabeled data.\n",
    "\n",
    "The first step when using Masterful is to learn the optimal set of parameters for each of the five buckets above. You start by learning the architecture and data parameters of the model and training dataset. In the code below, you are telling Masterful that your model is performing a classification task (`masterful.enums.Task.CLASSIFICATION`) with 10 labels (`num_classes=NUM_CLASSES`), and that the input range of the image features going into your model are in the range [0,1] (`input_range=masterful.enums.ImageRange.ZERO_ONE`). Also, the model outputs logits rather than a softmax classification (`prediction_logits=True`). Note the `ensemble_multiplier` parameter, set to 5, which tells Masterful to train and ensemble 5 different models and average the results of the joint prediction.\n",
    "\n",
    "Furthermore, in the training dataset, you are providing dense labels (`sparse_labels=False`) rather than sparse labels.\n",
    "\n",
    "For more details on architecture and data parameters, see the API specifications for [ArchitectureParams](../api/api_architecture.rst#masterful.architecture.ArchitectureParams) and [DataParams](../api/api_data.rst#masterful.data.DataParams). "
   ]
  },
  {
   "cell_type": "code",
   "execution_count": 6,
   "metadata": {},
   "outputs": [],
   "source": [
    "model_params = masterful.architecture.learn_architecture_params(\n",
    "  model=model,\n",
    "  task=masterful.enums.Task.CLASSIFICATION,\n",
    "  input_range=masterful.enums.ImageRange.ZERO_ONE,\n",
    "  num_classes=NUM_CLASSES,\n",
    "  prediction_logits=True,\n",
    "  ensemble_multiplier=5,\n",
    ")\n",
    "training_dataset_params = masterful.data.learn_data_params(\n",
    "  dataset=training_dataset,\n",
    "  task=masterful.enums.Task.CLASSIFICATION,\n",
    "  image_range=masterful.enums.ImageRange.ZERO_ONE,\n",
    "  num_classes=NUM_CLASSES,\n",
    "  sparse_labels=False,\n",
    ")"
   ]
  },
  {
   "cell_type": "markdown",
   "metadata": {},
   "source": [
    "Next you learn the optimization parameters that will be used to train the model. Below, you use Masterful to learn the standard set of optimization parameters to train your model for a classification task.\n",
    "\n",
    "For more details on the optmization parameters, please see the [OptimizationParams](../api/api_optimization.rst#masterful.optimization.OptimizationParams) API specification."
   ]
  },
  {
   "cell_type": "code",
   "execution_count": null,
   "metadata": {},
   "outputs": [],
   "source": [
    "optimization_params = masterful.optimization.learn_optimization_params(\n",
    "  model,\n",
    "  model_params,\n",
    "  training_dataset,\n",
    "  training_dataset_params,\n",
    ")"
   ]
  },
  {
   "cell_type": "markdown",
   "metadata": {},
   "source": [
    "The regularization parameters used can have a dramatic impact on the final performance of your trained model. Learning these parameters can be a time-consuming and domain specific challenge. Masterful can speed up this process by learning these parameters for you. In general, this can be an expensive operation. A rough order of magnitude for learning these parameters is 2x the time it takes to train your model. However, this is still dramatically faster than manually finding these parameters yourself. In the example below, you will use the [learn_regularization_params](../api/api_regularization.rst#masterful.regularization.learn_regularization_params) API to learn these parameters directly from your dataset and model.\n",
    "\n",
    "For more details on the regularization parameters, please see the [RegularizationParams](../api/api_regularization.rst#masterful.regularization.RegularizationParams) API specification."
   ]
  },
  {
   "cell_type": "code",
   "execution_count": null,
   "metadata": {},
   "outputs": [],
   "source": [
    "regularization_params = masterful.regularization.learn_regularization_params(\n",
    "  model,\n",
    "  model_params,\n",
    "  optimization_params,\n",
    "  training_dataset,\n",
    "  training_dataset_params,\n",
    ")"
   ]
  },
  {
   "cell_type": "markdown",
   "metadata": {},
   "source": [
    "The final step before training is to learn the optimal set of semi-supervision parameters. For this Quickstart, we are not using any unlabeled or synthetic data as part of training, so most forms of semi-supervision will be disabled by default.\n",
    "\n",
    "For more details on the semi-supervision parameters, please see the [SemiSupervisedParams](../api/api_ssl.rst#masterful.ssl.SemiSupervisedParams) API specification."
   ]
  },
  {
   "cell_type": "code",
   "execution_count": null,
   "metadata": {},
   "outputs": [],
   "source": [
    "ssl_params = masterful.ssl.learn_ssl_params(\n",
    "  training_dataset,\n",
    "  training_dataset_params,\n",
    ")"
   ]
  },
  {
   "cell_type": "markdown",
   "metadata": {},
   "source": [
    "Now, you are ready to train your model using the Masterful AutoML platform. In the next cell, you will see the call to [masterful.training.train](../api/api_training.rst#masterful.training.train), which is the entry point to the meta-learning engine of the Masterful AutoML platform. Notice there is no need to batch your data (Masterful will find the optimal batch size for you). No need to shuffle your data (Masterful handles this for you). You don't even need to pass in a validation dataset (Masterful finds one for you). You hand Masterful a model and a dataset, and Masterful will figure the rest out for you. Ensembling with Masterful looks exactly the same as non-ensemble training with Masterful. Masterful handles everything for you inside the API."
   ]
  },
  {
   "cell_type": "code",
   "execution_count": 9,
   "metadata": {},
   "outputs": [
    {
     "name": "stdout",
     "output_type": "stream",
     "text": [
      "Fitting model phase 2 of 2 DONE.\n",
      "Masterful backend.fit() DONE.\n"
     ]
    }
   ],
   "source": [
    "training_report = masterful.training.train(\n",
    "  model, \n",
    "  model_params, \n",
    "  optimization_params,\n",
    "  regularization_params,\n",
    "  ssl_params,\n",
    "  training_dataset,\n",
    "  training_dataset_params,\n",
    ")"
   ]
  },
  {
   "cell_type": "markdown",
   "metadata": {},
   "source": [
    "Now that the ensemble is trained, access it using the report returned and evaluate on the `test_dataset`. "
   ]
  },
  {
   "cell_type": "code",
   "execution_count": 10,
   "metadata": {},
   "outputs": [
    {
     "name": "stdout",
     "output_type": "stream",
     "text": [
      "Evaluating ensembled model...\n",
      "157/157 [==============================] - 1s 4ms/step - loss: 0.0560 - categorical_accuracy: 0.9824\n"
     ]
    }
   ],
   "source": [
    "print('Evaluating ensembled model...')\n",
    "ensembled_model = training_report.model\n",
    "ensembled_results = ensembled_model.evaluate(test_dataset.batch(64), return_dict=True)"
   ]
  },
  {
   "cell_type": "code",
   "execution_count": 11,
   "metadata": {},
   "outputs": [
    {
     "data": {
      "text/plain": [
       "{'loss': 0.0560285821557045,\n",
       " 'categorical_accuracy': 0.9824000000953674,\n",
       " 'child_models': {0: {'loss': 0.07878458499908447,\n",
       "   'categorical_accuracy': 0.9750999808311462},\n",
       "  1: {'loss': 0.06273771077394485, 'categorical_accuracy': 0.98089998960495},\n",
       "  2: {'loss': 0.069137804210186, 'categorical_accuracy': 0.9787999987602234},\n",
       "  3: {'loss': 0.061786066740751266, 'categorical_accuracy': 0.980400025844574},\n",
       "  4: {'loss': 0.06251046806573868,\n",
       "   'categorical_accuracy': 0.9807000160217285}}}"
      ]
     },
     "execution_count": 11,
     "metadata": {},
     "output_type": "execute_result"
    }
   ],
   "source": [
    "training_report.validation_results"
   ]
  },
  {
   "cell_type": "markdown",
   "metadata": {},
   "source": [
    "The report also holds metrics on the child models. Access them, average, and plot the results. You've successfully demonstrated that an ensemble outperforms both individual child models, as well as a model trained without any of Masterful's techniques. "
   ]
  },
  {
   "cell_type": "code",
   "execution_count": 12,
   "metadata": {},
   "outputs": [
    {
     "name": "stdout",
     "output_type": "stream",
     "text": [
      "157/157 [==============================] - 1s 3ms/step - loss: 0.0943 - categorical_accuracy: 0.9708\n",
      "157/157 [==============================] - 1s 3ms/step - loss: 0.0753 - categorical_accuracy: 0.9775\n",
      "157/157 [==============================] - 1s 3ms/step - loss: 0.0833 - categorical_accuracy: 0.9754\n",
      "157/157 [==============================] - 1s 3ms/step - loss: 0.0745 - categorical_accuracy: 0.9758\n",
      "157/157 [==============================] - 1s 3ms/step - loss: 0.0750 - categorical_accuracy: 0.9781\n"
     ]
    },
    {
     "data": {
      "image/png": "[encoded data removed]",
      "text/plain": [
       "<Figure size 432x288 with 1 Axes>"
      ]
     },
     "metadata": {
      "needs_background": "light"
     },
     "output_type": "display_data"
    }
   ],
   "source": [
    "import matplotlib.pyplot as plt\n",
    "models = ['baseline', 'child_models_mean', 'ensemble']\n",
    "accuracies = [baseline_val_accuracy]\n",
    "accuracies_children = []\n",
    "\n",
    "for ensemble_child_model in ensembled_model.layers[1:6]:\n",
    "    ensemble_model_child_results = ensemble_child_model.evaluate(test_dataset.batch(batch_size), return_dict=True)\n",
    "    accuracies_children.append(ensemble_model_child_results['categorical_accuracy'])\n",
    "\n",
    "mean_accuracy_children = np.mean(np.array(accuracies_children))\n",
    "accuracies.append(mean_accuracy_children)\n",
    "\n",
    "accuracies.append(ensembled_results['categorical_accuracy'])\n",
    "\n",
    "plt.barh(models,accuracies)\n",
    "plt.title('Accuracy on the test set for baseline vs ensemble')\n",
    "plt.ylabel('models')\n",
    "plt.xlabel('Accuracy')\n",
    "plt.xlim([0.90, 1.0])\n",
    "plt.show()"
   ]
  }
 ],
 "metadata": {
  "interpreter": {
   "hash": "e11de040a44de2599d5826916dec5532a989d7fc6a7daf05571191351ea2bbfc"
  },
  "kernelspec": {
   "display_name": "Python 3 (ipykernel)",
   "language": "python",
   "name": "python3"
  },
  "language_info": {
   "codemirror_mode": {
    "name": "ipython",
    "version": 3
   },
   "file_extension": ".py",
   "mimetype": "text/x-python",
   "name": "python",
   "nbconvert_exporter": "python",
   "pygments_lexer": "ipython3",
   "version": "3.8.8"
  }
 },
 "nbformat": 4,
 "nbformat_minor": 2
}
